{
 "cells": [
  {
   "cell_type": "code",
   "execution_count": 51,
   "metadata": {},
   "outputs": [],
   "source": [
    "from pathlib import Path\n",
    "import shutil\n",
    "import numpy as np"
   ]
  },
  {
   "cell_type": "code",
   "execution_count": 52,
   "metadata": {},
   "outputs": [],
   "source": [
    "RUN_DIR =    Path(\"/project2/andrewferguson/armin/FE_DATA/GHGGF_FEN/complex/usample_2d/prep/angles/runs\")\n",
    "MOLD_DIR =   Path(\"/project2/andrewferguson/armin/FE_DATA/GHGGF_FEN/complex/usample_2d/prep/angles/mold\")\n",
    "NUM_SUB = 4\n",
    "NWINDOWS_ANG  = 18"
   ]
  },
  {
   "cell_type": "markdown",
   "metadata": {},
   "source": [
    "# Preparations"
   ]
  },
  {
   "cell_type": "code",
   "execution_count": 53,
   "metadata": {},
   "outputs": [],
   "source": [
    "def write_plumed(id, dist, ang, k_d, k_a, circ_id, plumed_f):\n",
    "    plumed_cnt = [ \"WHOLEMOLECULES ENTITY0=99-151 ENTITY1=1-98\\n\",\n",
    "                   \"# DEFINITIONS\\n\",\n",
    "                   \"MOLcom: COM ATOMS=99-151\\n\",\n",
    "                   \"PCCcom: COM ATOMS=1-98\\n\",\n",
    "                   \"# COLVARS\\n\",\n",
    "                   \"dcom: DISTANCE ATOMS=MOLcom,PCCcom\\n\",\n",
    "                   \"ang: ANGLE ATOMS=5,8,101,129\\n\",\n",
    "                   \"v1: DISTANCE ATOMS=5,8 SCALED_COMPONENTS NOPBC\\n\",\n",
    "                   \"v2: DISTANCE ATOMS=101,129 SCALED_COMPONENTS NOPBC\\n\",\n",
    "                   \"vr: DISTANCE ATOMS=PCCcom,2 SCALED_COMPONENTS NOPBC\\n\",\n",
    "                   \"crossx: CUSTOM ...\\n\",\n",
    "                   \"\\tARG=v1.b,v1.c,v2.b,v2.c\\n\",\n",
    "                   \"\\tVAR=y1,z1,y2,z2\\n\",\n",
    "                   \"\\tFUNC=y1*z2-y2*z1\\n\",\n",
    "                   \"\\tPERIODIC=NO\\n\",\n",
    "                   \"...\\n\",\n",
    "                   \"crossy: CUSTOM ...\\n\",\n",
    "                   \"\\tARG=v1.a,v1.c,v2.a,v2.c\\n\",\n",
    "                   \"\\tVAR=x1,z1,x2,z2\\n\",\n",
    "                   \"\\tFUNC=x2*z1-x1*z2\\n\",\n",
    "                   \"\\tPERIODIC=NO\\n\",\n",
    "                   \"...\\n\",\n",
    "                   \"crossz: CUSTOM ...\\n\",\n",
    "                   \"\\tARG=v1.a,v1.b,v2.a,v2.b\\n\",\n",
    "                   \"\\tVAR=x1,y1,x2,y2\\n\",\n",
    "                   \"\\tFUNC=x1*y2-x2*y1\\n\",\n",
    "                   \"\\tPERIODIC=NO\\n\",\n",
    "                   \"...\\n\",\n",
    "                   \"crosss: CUSTOM ...\\n\",\n",
    "                   \"\\tARG=crossx,crossy,crossz\\n\",\n",
    "                   \"\\tVAR=x,y,z\\n\",\n",
    "                   \"\\tFUNC=sqrt(x*x+y*y+z*z)\\n\",\n",
    "                   \"\\tPERIODIC=NO\\n\",\n",
    "                   \"...\\n\",\n",
    "                   \"refx: CUSTOM ...\\n\",\n",
    "                   \"\\tARG=v1.b,v1.c,vr.b,vr.c\\n\",\n",
    "                   \"\\tVAR=y1,z1,y2,z2\\n\",\n",
    "                   \"\\tFUNC=y1*z2-y2*z1\\n\",\n",
    "                   \"\\tPERIODIC=NO\\n\",\n",
    "                   \"...\\n\",\n",
    "                   \"refy: CUSTOM ...\\n\",\n",
    "                   \"\\tARG=v1.a,v1.c,vr.a,vr.c\\n\",\n",
    "                   \"\\tVAR=x1,z1,x2,z2\\n\",\n",
    "                   \"\\tFUNC=x2*z1-x1*z2\\n\",\n",
    "                   \"\\tPERIODIC=NO\\n\",\n",
    "                   \"...\\n\",\n",
    "                   \"refz: CUSTOM ...\\n\",\n",
    "                   \"\\tARG=v1.a,v1.b,vr.a,vr.b\\n\",\n",
    "                   \"\\tVAR=x1,y1,x2,y2\\n\",\n",
    "                   \"\\tFUNC=x1*y2-x2*y1\\n\",\n",
    "                   \"\\tPERIODIC=NO\\n\",\n",
    "                   \"...\\n\",\n",
    "                   \"refs: CUSTOM ...\\n\",\n",
    "                   \"\\tARG=refx,refy,refz\\n\",\n",
    "                   \"\\tVAR=x,y,z\\n\",\n",
    "                   \"\\tFUNC=sqrt(x*x+y*y+z*z)\\n\",\n",
    "                   \"\\tPERIODIC=NO\\n\",\n",
    "                   \"...\\n\",\n",
    "                   \"dc: CUSTOM ...\\n\",\n",
    "                   \"\\tARG=crossx,crossy,crossz,refx,refy,refz,crosss,refs\\n\",\n",
    "                   \"\\tVAR=x1,y1,z1,x2,y2,z2,A,B\\n\",\n",
    "                   \"\\tFUNC=(x1*x2+y1*y2+z1*z2)/A/B\\n\",\n",
    "                   \"\\tPERIODIC=NO\\n\",\n",
    "                   \"...\\n\",\n",
    "                   \"# BIAS\\n\",\n",
    "                   f\"udb: RESTRAINT ARG=dcom KAPPA={k_d} AT={dist}\\n\",\n",
    "                   f\"uab: RESTRAINT ARG=ang KAPPA={k_a} AT={ang}\\n\",\n",
    "                   f\"ucb: RESTRAINT ARG=dc KAPPA=150.0 AT={circ_id}\\n\",\n",
    "                   \"\\n\",\n",
    "                   f\"PRINT ARG=dcom,ang,dc,udb.bias,uab.bias,ucb.bias STRIDE=100 FILE=us_{id}.dat\\n\",\n",
    "                    ]\n",
    "    with open(plumed_f, 'w') as f:\n",
    "        f.writelines(plumed_cnt)"
   ]
  },
  {
   "cell_type": "code",
   "execution_count": 54,
   "metadata": {},
   "outputs": [],
   "source": [
    "ANGS = np.linspace(0, np.pi, NWINDOWS_ANG)\n",
    "\n",
    "for i, ang in enumerate(ANGS):\n",
    "    sim_dir = RUN_DIR/f\"{i}\"\n",
    "    if sim_dir.exists():\n",
    "        is_empty = not any(sim_dir.iterdir())\n",
    "        if not is_empty:\n",
    "            raise RuntimeError(f\"Directory {i} already exists and is not empty.\")\n",
    "    else:\n",
    "        sim_dir.mkdir()\n",
    "    for file in MOLD_DIR.iterdir():\n",
    "        shutil.copy(file, sim_dir/file.parts[-1])\n",
    "    plumed_f = sim_dir/f\"plumed_us.dat\"\n",
    "    write_plumed(i, 2.0, ang, 1000.00, 250.00, 1, plumed_f)"
   ]
  },
  {
   "cell_type": "code",
   "execution_count": 55,
   "metadata": {},
   "outputs": [],
   "source": [
    "ANGS = ANGS[1:-1]\n",
    "ANGS = ANGS[::-1]\n",
    "\n",
    "for i, ang in enumerate(ANGS):\n",
    "    ind = i + 18\n",
    "    sim_dir = RUN_DIR/f\"{ind}\"\n",
    "    if sim_dir.exists():\n",
    "        is_empty = not any(sim_dir.iterdir())\n",
    "        if not is_empty:\n",
    "            raise RuntimeError(f\"Directory {ind} already exists and is not empty.\")\n",
    "    else:\n",
    "        sim_dir.mkdir()\n",
    "    for file in MOLD_DIR.iterdir():\n",
    "        shutil.copy(file, sim_dir/file.parts[-1])\n",
    "    plumed_f = sim_dir/f\"plumed_us.dat\"\n",
    "    write_plumed(ind, 2.0, ang, 1000.00, 250.00, -1, plumed_f)"
   ]
  },
  {
   "cell_type": "markdown",
   "metadata": {},
   "source": [
    "# Submission"
   ]
  },
  {
   "cell_type": "markdown",
   "metadata": {},
   "source": [
    "Just a little context manager for changing directories"
   ]
  },
  {
   "cell_type": "code",
   "execution_count": 56,
   "metadata": {},
   "outputs": [],
   "source": [
    "import os\n",
    "import contextlib\n",
    "\n",
    "@contextlib.contextmanager\n",
    "def working_directory(path):\n",
    "    \"\"\"Changes working directory and returns to previous on exit.\"\"\"\n",
    "    prev_cwd = Path.cwd()\n",
    "    os.chdir(path)\n",
    "    try:\n",
    "        yield\n",
    "    finally:\n",
    "        os.chdir(prev_cwd)"
   ]
  },
  {
   "cell_type": "code",
   "execution_count": 57,
   "metadata": {},
   "outputs": [
    {
     "name": "stdout",
     "output_type": "stream",
     "text": [
      "3: 0: 6: 9: Submitted batch job 31038922\n",
      "Submitted batch job 31038923\n",
      "Submitted batch job 31038924\n",
      "Submitted batch job 31038925\n",
      "4: 1: 7: 10: Submitted batch job 31038927\n",
      "Submitted batch job 31038928\n",
      "Submitted batch job 31038929\n",
      "Submitted batch job 31038930\n",
      "5: 2: 11: Submitted batch job 31038998\n",
      "Submitted batch job 31038999\n",
      "Submitted batch job 31039000\n",
      "8: Submitted batch job 31039003\n",
      "12: 15: 18: Submitted batch job 31039004\n",
      "Submitted batch job 31039005\n",
      "Submitted batch job 31039006\n",
      "21: Submitted batch job 31039009\n",
      "16: 13: 19: Submitted batch job 31039011\n",
      "Submitted batch job 31039012\n",
      "Submitted batch job 31039013\n",
      "22: Submitted batch job 31039014\n",
      "17: 14: 20: Submitted batch job 31039015\n",
      "Submitted batch job 31039016\n",
      "Submitted batch job 31039017\n",
      "23: Submitted batch job 31039018\n",
      "24: 27: 30: Submitted batch job 31039069\n",
      "Submitted batch job 31039070\n",
      "Submitted batch job 31039071\n",
      "33: Submitted batch job 31039093\n",
      "25: 28: Submitted batch job 31039095\n",
      "Submitted batch job 31039096\n",
      "31: Submitted batch job 31039097\n",
      "26: 29: Submitted batch job 31039099\n",
      "Submitted batch job 31039100\n",
      "32: Submitted batch job 31039103\n"
     ]
    }
   ],
   "source": [
    "import subprocess\n",
    "import multiprocessing\n",
    "\n",
    "def call_func(i):\n",
    "   with working_directory(RUN_DIR/str(i)):\n",
    "      print(f\"{i}: \", end=\"\")\n",
    "      subprocess.call(\"sbatch -J GHGGF_us --wait sub_mdrun_plumed.sh\", shell=True)\n",
    "   return None\n",
    "\n",
    "with multiprocessing.Pool(NUM_SUB) as pool:\n",
    "   pool.map(call_func, range(2*NWINDOWS_ANG-2))"
   ]
  },
  {
   "cell_type": "code",
   "execution_count": 58,
   "metadata": {},
   "outputs": [],
   "source": [
    "import os\n",
    "import asyncio\n",
    "import telegram\n",
    "\n",
    "async def notif(message):\n",
    "    bot = telegram.Bot(\"\")\n",
    "    async with bot:\n",
    "        await bot.send_message(chat_id=149407364, text=message)\n",
    "\n",
    "\n",
    "await notif(f\"{os.getcwd()} is done.\")"
   ]
  },
  {
   "cell_type": "code",
   "execution_count": null,
   "metadata": {},
   "outputs": [],
   "source": []
  }
 ],
 "metadata": {
  "kernelspec": {
   "display_name": "Python 3",
   "language": "python",
   "name": "python3"
  },
  "language_info": {
   "codemirror_mode": {
    "name": "ipython",
    "version": 3
   },
   "file_extension": ".py",
   "mimetype": "text/x-python",
   "name": "python",
   "nbconvert_exporter": "python",
   "pygments_lexer": "ipython3",
   "version": "3.11.4"
  }
 },
 "nbformat": 4,
 "nbformat_minor": 2
}
