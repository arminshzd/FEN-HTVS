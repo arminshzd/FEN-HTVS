{
 "cells": [
  {
   "cell_type": "code",
   "execution_count": null,
   "metadata": {},
   "outputs": [],
   "source": [
    "import pickle\n",
    "\n",
    "from seq2mat import Seq2Mat"
   ]
  },
  {
   "cell_type": "code",
   "execution_count": null,
   "metadata": {},
   "outputs": [],
   "source": [
    "fspace = []\n",
    "with open(\"/project/andrewferguson/armin/HTVS_Fentanyl/gen_input_space/full_space.txt\") as f:\n",
    "    line = f.readline()\n",
    "    while line:\n",
    "        fspace.append(line.split()[0])\n",
    "        line = f.readline()"
   ]
  },
  {
   "cell_type": "code",
   "execution_count": null,
   "metadata": {},
   "outputs": [],
   "source": [
    "translator = Seq2Mat(\"/project/andrewferguson/armin/HTVS_Fentanyl/MFMOBO/AA.blosum62.pckl\")\n",
    "_ = translator.encode(fspace)"
   ]
  },
  {
   "cell_type": "code",
   "execution_count": null,
   "metadata": {},
   "outputs": [],
   "source": [
    "with open(\"./translator_fs.pkl\", 'wb') as f:\n",
    "    pickle.dump(translator, f)"
   ]
  }
 ],
 "metadata": {
  "language_info": {
   "name": "python"
  }
 },
 "nbformat": 4,
 "nbformat_minor": 2
}
